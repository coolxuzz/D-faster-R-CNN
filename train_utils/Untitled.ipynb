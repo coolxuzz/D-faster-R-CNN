{
 "cells": [
  {
   "cell_type": "code",
   "execution_count": 1,
   "id": "73b6ed8f-2a47-45ba-bf7b-5ccd2e271bc6",
   "metadata": {},
   "outputs": [],
   "source": [
    "import matplotlib.pyplot as plt\n",
    "\n",
    "# 假设您在 evaluate 函数中已经计算了 recalls 和 precisions\n",
    "# 这里是一个示例的 recalls 和 precisions 数据\n",
    "recalls = [0.0, 0.1, 0.2, 0.3, 0.4, 0.5, 0.6, 0.7, 0.8, 0.9, 1.0]  # 示例数据\n",
    "precisions = [1.0, 0.9, 0.8, 0.7, 0.6, 0.5, 0.4, 0.3, 0.2, 0.1, 0.0]  # 示例数据\n",
    "ap50 = 0.75  # 示例 AP50 值\n",
    "ap75 = 0.65  # 示例 AP75 值\n",
    "\n",
    "# 绘制 PR 曲线\n",
    "plt.figure()\n",
    "plt.plot(recalls, precisions, marker='o', label='PR Curve')\n",
    "plt.axhline(y=ap50, color='r', linestyle='--', label='AP50 = {:.3f}'.format(ap50))\n",
    "plt.axhline(y=ap75, color='g', linestyle='--', label='AP75 = {:.3f}'.format(ap75))\n",
    "plt.xlabel('Recall')\n",
    "plt.ylabel('Precision')\n",
    "plt.title('Precision-Recall Curve')\n",
    "plt.legend()\n",
    "plt.grid(True)\n",
    "\n",
    "# 保存图像\n",
    "plt.savefig('pr_curve.png')\n",
    "plt.close()  # 关闭图像以释放内存\n"
   ]
  },
  {
   "cell_type": "code",
   "execution_count": null,
   "id": "0b66a4a7-6496-4b58-9433-0f55d61c9349",
   "metadata": {},
   "outputs": [],
   "source": []
  },
  {
   "cell_type": "code",
   "execution_count": null,
   "id": "602a9054-fece-4443-9241-3155bb77a0e3",
   "metadata": {},
   "outputs": [],
   "source": []
  },
  {
   "cell_type": "code",
   "execution_count": null,
   "id": "f0b8b00c-1a71-432f-8887-b2068ad7df51",
   "metadata": {},
   "outputs": [],
   "source": []
  }
 ],
 "metadata": {
  "kernelspec": {
   "display_name": "Python 3 (ipykernel)",
   "language": "python",
   "name": "python3"
  },
  "language_info": {
   "codemirror_mode": {
    "name": "ipython",
    "version": 3
   },
   "file_extension": ".py",
   "mimetype": "text/x-python",
   "name": "python",
   "nbconvert_exporter": "python",
   "pygments_lexer": "ipython3",
   "version": "3.8.10"
  }
 },
 "nbformat": 4,
 "nbformat_minor": 5
}
